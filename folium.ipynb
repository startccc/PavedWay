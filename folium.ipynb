{
 "cells": [
  {
   "cell_type": "code",
   "execution_count": 1,
   "metadata": {},
   "outputs": [],
   "source": [
    "import folium\n",
    "from folium import plugins"
   ]
  },
  {
   "cell_type": "code",
   "execution_count": 2,
   "metadata": {},
   "outputs": [],
   "source": [
    "points_1 = [(46.525627, 6.622125),\n",
    "            (46.525603, 6.622097),\n",
    "            (46.525575, 6.622142),\n",
    "            (46.525522, 6.622217),\n",
    "            (46.525464, 6.622307),\n",
    "            (46.525348, 6.622498),\n",
    "            (46.525332, 6.622476),\n",
    "            (46.525301, 6.622406),\n",
    "            (46.525280, 6.622378),\n",
    "            (46.525222, 6.622460),\n",
    "            (46.525161, 6.622550),\n",
    "            (46.525081, 6.622670),\n",
    "            (46.524976, 6.622837),\n",
    "            (46.524836, 6.623056),\n",
    "            (46.524648, 6.623356),\n",
    "            (46.524557, 6.623498),\n",
    "            (46.523783, 6.624721),\n",
    "            (46.523750, 6.624772),\n",
    "            (46.523691, 6.624733),\n",
    "            (46.523689, 6.624667),\n",
    "            (46.523622, 6.624653),\n",
    "            (46.523530, 6.624593),\n",
    "            (46.523504, 6.624479),\n",
    "            (46.523478, 6.624442),\n",
    "            (46.523354, 6.624492),\n",
    "            (46.523279, 6.624438),\n",
    "            (46.523186, 6.624409),\n",
    "            (46.523182, 6.624423)]\n",
    "points_2 = [(46.524557, 6.623498),\n",
    "            (46.524479, 6.623388),\n",
    "            (46.524487, 6.623158),\n",
    "            (46.524458, 6.623125)]\n",
    "points_3 = [(46.523783, 6.624721),\n",
    "            (46.523800, 6.624745),\n",
    "            (46.523861, 6.624795),\n",
    "            (46.523878, 6.624850),\n",
    "            (46.523887, 6.624855),\n",
    "            (46.523825, 6.625021),\n",
    "            (46.523810, 6.625075)]\n",
    "points_4 = [(46.521653, 6.628877),\n",
    "            (46.521671, 6.628884),\n",
    "            (46.521658, 6.628971),\n",
    "            (46.521744, 6.629018),\n",
    "            (46.521683, 6.629263),\n",
    "            (46.521652, 6.629384),\n",
    "            (46.521621, 6.629481),\n",
    "            (46.521575, 6.629606),\n",
    "            (46.521503, 6.629773),\n",
    "            (46.521448, 6.629882),\n",
    "            (46.521322, 6.630104),\n",
    "            (46.521267, 6.630193),\n",
    "            (46.521112, 6.630401),\n",
    "            (46.521091, 6.630423),\n",
    "            (46.521067, 6.630430),\n",
    "            (46.521042, 6.630429),\n",
    "            (46.520879, 6.630350),\n",
    "            (46.520865, 6.630426),\n",
    "            (46.520655, 6.630398),\n",
    "            (46.520488, 6.630363),\n",
    "            (46.520401, 6.630335),\n",
    "            (46.520364, 6.630325),\n",
    "            (46.520348, 6.630445),\n",
    "            (46.520342, 6.630445)]\n",
    "points_5 = [(46.517568, 6.628940),\n",
    "            (46.517561, 6.628985),\n",
    "            (46.517581, 6.628993),\n",
    "            (46.517528, 6.629359),\n",
    "            (46.517501, 6.629556),\n",
    "            (46.517481, 6.629700),\n",
    "            (46.517504, 6.629714)]\n",
    "points_6 = [(46.517528, 6.629359),\n",
    "            (46.517389, 6.629315),\n",
    "            (46.517256, 6.629275)]\n",
    "points_7 = [(46.517501, 6.629556),\n",
    "            (46.517527, 6.629563)]\n",
    "points_8 = [(46.517389, 6.629315),\n",
    "            (46.517399, 6.629264)]\n",
    "points_9 = [(46.517285, 6.629007),\n",
    "            (46.517269, 6.629002),\n",
    "            (46.517239, 6.629218),\n",
    "            (46.517267, 6.629223),\n",
    "            (46.517256, 6.629275),\n",
    "            (46.517217, 6.629561)]\n",
    "points_chuv = [(46.526199, 6.641410),\n",
    "               (46.526095, 6.641383),\n",
    "               (46.526044, 6.641536),\n",
    "               (46.525741, 6.642269),\n",
    "               (46.525734, 6.642303),\n",
    "               (46.525728, 6.642344),\n",
    "               (46.525719, 6.642420),\n",
    "               (46.525718, 6.642446),\n",
    "               (46.525542, 6.642446),\n",
    "               (46.525487, 6.642525)]\n",
    "points_chuv_2 = [(46.526044, 6.641536),\n",
    "                 (46.526185, 6.641571)]\n",
    "\n",
    "points_10 = [(46.517459, 6.637998),\n",
    "             (46.517501, 6.638032),\n",
    "             (46.517660, 6.638099),\n",
    "             (46.517682, 6.638117),\n",
    "             (46.517694, 6.638136),\n",
    "             (46.517701, 6.638167),\n",
    "             (46.517700, 6.638191),\n",
    "             (46.517858, 6.638246),\n",
    "             (46.517867, 6.638249),\n",
    "             (46.517885, 6.638224),\n",
    "             (46.517904, 6.638207),\n",
    "             (46.517927, 6.638199),\n",
    "             (46.517941, 6.638202),\n",
    "             (46.517963, 6.638214),\n",
    "             (46.518072, 6.638315),\n",
    "             (46.518076, 6.638347),\n",
    "             (46.518473, 6.638719),\n",
    "             (46.518487, 6.638718),\n",
    "             (46.518497, 6.638727),\n",
    "             (46.518419, 6.638898),\n",
    "             (46.518374, 6.638972)]\n",
    "points_11 = [(46.518352, 6.638978),\n",
    "             (46.518299, 6.639075),\n",
    "             (46.518259, 6.639092)]\n",
    "points_12 = [(46.517682, 6.638117),\n",
    "             (46.517773, 6.637870)]\n",
    "points_13 = [(46.517858, 6.638246),\n",
    "             (46.517850, 6.638265)]\n",
    "points_14 = [(46.517790, 6.637878),\n",
    "             (46.517773, 6.637870),\n",
    "             (46.517000, 6.637522),\n",
    "             (46.517002, 6.637505)]"
   ]
  },
  {
   "cell_type": "code",
   "execution_count": 3,
   "metadata": {},
   "outputs": [],
   "source": [
    "ave_lat = sum(p[0] for p in points_1)/len(points_1)\n",
    "ave_lon = sum(p[1] for p in points_1)/len(points_1)"
   ]
  },
  {
   "cell_type": "code",
   "execution_count": 4,
   "metadata": {},
   "outputs": [
    {
     "data": {
      "text/plain": [
       "<folium.features.PolyLine at 0x7f3f76547438>"
      ]
     },
     "execution_count": 4,
     "metadata": {},
     "output_type": "execute_result"
    }
   ],
   "source": [
    "weight = 7.5\n",
    "my_map = folium.Map(location=[ave_lat, ave_lon], zoom_start=14)\n",
    "folium.PolyLine(points_1, color=\"#e74c3c\", weight=weight, opacity=1).add_to(my_map)\n",
    "folium.PolyLine(points_2, color=\"#e74c3c\", weight=weight, opacity=1).add_to(my_map)\n",
    "folium.PolyLine(points_3, color=\"#e74c3c\", weight=weight, opacity=1).add_to(my_map)\n",
    "folium.PolyLine(points_4, color=\"#e74c3c\", weight=weight, opacity=1).add_to(my_map)\n",
    "folium.PolyLine(points_5, color=\"#e74c3c\", weight=weight, opacity=1).add_to(my_map)\n",
    "folium.PolyLine(points_6, color=\"#e74c3c\", weight=weight, opacity=1).add_to(my_map)\n",
    "folium.PolyLine(points_7, color=\"#e74c3c\", weight=weight, opacity=1).add_to(my_map)\n",
    "folium.PolyLine(points_8, color=\"#e74c3c\", weight=weight, opacity=1).add_to(my_map)\n",
    "folium.PolyLine(points_9, color=\"#e74c3c\", weight=weight, opacity=1).add_to(my_map)\n",
    "folium.PolyLine(points_10, color=\"#e74c3c\", weight=weight, opacity=1).add_to(my_map)\n",
    "folium.PolyLine(points_11, color=\"#e74c3c\", weight=weight, opacity=1).add_to(my_map)\n",
    "folium.PolyLine(points_12, color=\"#e74c3c\", weight=weight, opacity=1).add_to(my_map)\n",
    "folium.PolyLine(points_13, color=\"#e74c3c\", weight=weight, opacity=1).add_to(my_map)\n",
    "folium.PolyLine(points_14, color=\"#e74c3c\", weight=weight, opacity=1).add_to(my_map)\n",
    "folium.PolyLine(points_chuv, color=\"#e74c3c\", weight=weight, opacity=1).add_to(my_map)\n",
    "folium.PolyLine(points_chuv_2, color=\"#e74c3c\", weight=weight, opacity=1).add_to(my_map)"
   ]
  },
  {
   "cell_type": "code",
   "execution_count": 5,
   "metadata": {},
   "outputs": [],
   "source": [
    "icon = folium.features.CustomIcon('icon.jpg', icon_size=(14, 14))"
   ]
  },
  {
   "cell_type": "code",
   "execution_count": 6,
   "metadata": {},
   "outputs": [],
   "source": [
    "hopital = (46.524428, 6.623606)\n",
    "fondation = (46.525129, 6.613753)\n",
    "#folium.map.Marker(hopital, icon=icon,\n",
    "#                               popup='Hopital').add_to(my_map)\n",
    "#folium.map.Marker(fondation, icon=icon,\n",
    "#                               popup='Blind fondation').add_to(my_map)"
   ]
  },
  {
   "cell_type": "code",
   "execution_count": 7,
   "metadata": {},
   "outputs": [
    {
     "data": {
      "text/plain": [
       "<folium.plugins.fullscreen.Fullscreen at 0x7f3f98bec550>"
      ]
     },
     "execution_count": 7,
     "metadata": {},
     "output_type": "execute_result"
    }
   ],
   "source": [
    "folium.TileLayer('stamentoner').add_to(my_map)\n",
    "#folium.TileLayer('mapquestopen').add_to(my_map)\n",
    "plugins.Fullscreen(position='bottomright',\n",
    "                   title='Expand me',\n",
    "                   title_cancel='Exit me',\n",
    "                   force_separate_button=True).add_to(my_map)"
   ]
  },
  {
   "cell_type": "code",
   "execution_count": 8,
   "metadata": {},
   "outputs": [
    {
     "data": {
      "text/html": [
       "<div style=\"width:100%;\"><div style=\"position:relative;width:100%;height:0;padding-bottom:60%;\"><iframe src=\"data:text/html;charset=utf-8;base64,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\" style=\"position:absolute;width:100%;height:100%;left:0;top:0;border:none !important;\" allowfullscreen webkitallowfullscreen mozallowfullscreen></iframe></div></div>"
      ],
      "text/plain": [
       "<folium.folium.Map at 0x7f3f7658a240>"
      ]
     },
     "execution_count": 8,
     "metadata": {},
     "output_type": "execute_result"
    }
   ],
   "source": [
    "my_map"
   ]
  },
  {
   "cell_type": "code",
   "execution_count": null,
   "metadata": {},
   "outputs": [],
   "source": []
  },
  {
   "cell_type": "code",
   "execution_count": null,
   "metadata": {},
   "outputs": [],
   "source": []
  }
 ],
 "metadata": {
  "kernelspec": {
   "display_name": "Python 3",
   "language": "python",
   "name": "python3"
  },
  "language_info": {
   "codemirror_mode": {
    "name": "ipython",
    "version": 3
   },
   "file_extension": ".py",
   "mimetype": "text/x-python",
   "name": "python",
   "nbconvert_exporter": "python",
   "pygments_lexer": "ipython3",
   "version": "3.6.8"
  }
 },
 "nbformat": 4,
 "nbformat_minor": 2
}
